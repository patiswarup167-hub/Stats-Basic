{
  "nbformat": 4,
  "nbformat_minor": 0,
  "metadata": {
    "colab": {
      "provenance": []
    },
    "kernelspec": {
      "name": "python3",
      "display_name": "Python 3"
    },
    "language_info": {
      "name": "python"
    }
  },
  "cells": [
    {
      "cell_type": "markdown",
      "source": [
        "#Statistics basic"
      ],
      "metadata": {
        "id": "-j_5FGYLjeLE"
      }
    },
    {
      "cell_type": "markdown",
      "source": [
        "1: What is the difference between descriptive statistics and inferential\n",
        "statistics? Explain with examples.\n",
        "\n",
        "ans-\n",
        "\n",
        "    Difference between descriptive and inferential statistics\n",
        "\n",
        "    Descriptive statistics: Summarize and describe data (e.g., mean, median, mode, standard deviation, graphs).\n",
        "    Example: Reporting the average marks of students in a class.\n",
        "\n",
        "    Inferential statistics: Make predictions or generalizations about a population using a sample.\n",
        "    Example: Predicting the average marks of all students in a city based on a sample of schools.\n",
        "\n",
        "2:What is sampling in statistics? Explain the differences between random\n",
        "and stratified sampling.\n",
        "\n",
        "ans-\n",
        "\n",
        "    Sampling in statistics (Random vs. Stratified)\n",
        "\n",
        "    Sampling: Selecting a subset of a population to analyze.\n",
        "\n",
        "    Random sampling: Every member has an equal chance of selection.\n",
        "    Example: Picking 50 students randomly from a university.\n",
        "\n",
        "    Stratified sampling: Population is divided into groups (strata), and samples are taken from each group proportionally.\n",
        "    Example: Selecting students from each department to ensure fair representation.\n",
        "\n",
        "3: Define mean, median, and mode. Explain why these measures of central\n",
        "tendency are important.\n",
        "\n",
        "ans-\n",
        "\n",
        "    Mean: Average of values → (Sum of values ÷ Count).\n",
        "\n",
        "    Median: Middle value when data is sorted.\n",
        "\n",
        "    Mode: Most frequently occurring value.\n",
        "\n",
        "    Importance: These are measures of central tendency, showing the “center” of data distribution and helping summarize large datasets.\n",
        "\n",
        "4:Explain skewness and kurtosis. What does a positive skew imply about the\n",
        "data?\n",
        "\n",
        "ans-\n",
        "\n",
        "    Skewness and Kurtosis\n",
        "\n",
        "    Skewness: Measures asymmetry of data distribution.\n",
        "\n",
        "    Positive skew → Tail on the right (many low values, few very high).\n",
        "\n",
        "    Negative skew → Tail on the left.\n",
        "\n",
        "    Kurtosis: Measures \"tailedness\" or sharpness of distribution.\n",
        "\n",
        "    High kurtosis → more outliers.\n",
        "\n",
        "    Low kurtosis → fewer outliers.\n",
        "\n",
        "5: Implement a Python program to compute the mean, median, and mode of\n",
        "a given list of numbers\n",
        "\n",
        "   numbers = [12, 15, 12, 18, 19, 12, 20, 22, 19, 19, 24, 24, 24, 26, 28]\n",
        "\n"
      ],
      "metadata": {
        "id": "aLPyssYJjnUE"
      }
    },
    {
      "cell_type": "code",
      "source": [
        "import statistics as stats\n",
        "\n",
        "numbers = [12, 15, 12, 18, 19, 12, 20, 22, 19, 19, 24, 24, 24, 26, 28]\n",
        "\n",
        "mean_val = stats.mean(numbers)\n",
        "median_val = stats.median(numbers)\n",
        "mode_val = stats.mode(numbers)\n",
        "\n",
        "print(\"Mean:\", mean_val)\n",
        "print(\"Median:\", median_val)\n",
        "print(\"Mode:\", mode_val)\n"
      ],
      "metadata": {
        "colab": {
          "base_uri": "https://localhost:8080/"
        },
        "id": "kpAgtneIlja2",
        "outputId": "5dd8f1e4-9d16-43b9-b9b3-f20064ef7316"
      },
      "execution_count": 1,
      "outputs": [
        {
          "output_type": "stream",
          "name": "stdout",
          "text": [
            "Mean: 19.6\n",
            "Median: 19\n",
            "Mode: 12\n"
          ]
        }
      ]
    },
    {
      "cell_type": "markdown",
      "source": [
        "6: Compute the covariance and correlation coefficient between the following\n",
        "two datasets provided as lists in Python:\n",
        "list_x = [10, 20, 30, 40, 50]\n",
        "list_y = [15, 25, 35, 45, 60]\n"
      ],
      "metadata": {
        "id": "KXZvAJJglx1R"
      }
    },
    {
      "cell_type": "code",
      "source": [
        "import numpy as np\n",
        "\n",
        "list_x = [10, 20, 30, 40, 50]\n",
        "list_y = [15, 25, 35, 45, 60]\n",
        "\n",
        "cov_matrix = np.cov(list_x, list_y, bias=False)\n",
        "correlation = np.corrcoef(list_x, list_y)\n",
        "\n",
        "print(\"Covariance:\", cov_matrix[0][1])\n",
        "print(\"Correlation coefficient:\", correlation[0][1])\n"
      ],
      "metadata": {
        "colab": {
          "base_uri": "https://localhost:8080/"
        },
        "id": "vqBh6zCFl3a8",
        "outputId": "bc23c180-d8bd-4bcc-b658-8252b221b566"
      },
      "execution_count": 2,
      "outputs": [
        {
          "output_type": "stream",
          "name": "stdout",
          "text": [
            "Covariance: 275.0\n",
            "Correlation coefficient: 0.995893206467704\n"
          ]
        }
      ]
    },
    {
      "cell_type": "markdown",
      "source": [
        "7: Write a Python script to draw a boxplot for the following numeric list and\n",
        "identify its outliers. Explain the result:\n",
        "data = [12, 14, 14, 15, 18, 19, 19, 21, 22, 22, 23, 23, 24, 26, 29, 35]"
      ],
      "metadata": {
        "id": "97_RZ_Vvl9k8"
      }
    },
    {
      "cell_type": "code",
      "source": [
        "import matplotlib.pyplot as plt\n",
        "\n",
        "data = [12, 14, 14, 15, 18, 19, 19, 21, 22, 22, 23, 23, 24, 26, 29, 35]\n",
        "\n",
        "plt.boxplot(data)\n",
        "plt.title(\"Boxplot with Outliers\")\n",
        "plt.show()\n"
      ],
      "metadata": {
        "colab": {
          "base_uri": "https://localhost:8080/",
          "height": 452
        },
        "id": "M6jewfX_mGAw",
        "outputId": "7659e693-e24f-47ba-ef7f-4c381bb365b1"
      },
      "execution_count": 3,
      "outputs": [
        {
          "output_type": "display_data",
          "data": {
            "text/plain": [
              "<Figure size 640x480 with 1 Axes>"
            ],
            "image/png": "[encoded data removed]"
          },
          "metadata": {}
        }
      ]
    },
    {
      "cell_type": "markdown",
      "source": [
        " 8: You are working as a data analyst in an e-commerce company. The\n",
        "marketing team wants to know if there is a relationship between advertising spend and\n",
        "daily sales.\n",
        "● Explain how you would use covariance and correlation to explore this\n",
        "relationship.\n",
        "● Write Python code to compute the correlation between the two lists:\n",
        "\n",
        "advertising_spend = [200, 250, 300, 400, 500]\n",
        "\n",
        "daily_sales = [2200, 2450, 2750, 3200, 4000]"
      ],
      "metadata": {
        "id": "1DjsKFJ-mNYS"
      }
    },
    {
      "cell_type": "code",
      "source": [
        "advertising_spend = [200, 250, 300, 400, 500]\n",
        "daily_sales = [2200, 2450, 2750, 3200, 4000]\n",
        "\n",
        "corr = np.corrcoef(advertising_spend, daily_sales)[0][1]\n",
        "print(\"Correlation:\", corr)\n"
      ],
      "metadata": {
        "colab": {
          "base_uri": "https://localhost:8080/"
        },
        "id": "0H6lGmvQmWej",
        "outputId": "734ffb14-cacf-4486-8acb-c807ea456489"
      },
      "execution_count": 4,
      "outputs": [
        {
          "output_type": "stream",
          "name": "stdout",
          "text": [
            "Correlation: 0.9935824101653329\n"
          ]
        }
      ]
    },
    {
      "cell_type": "markdown",
      "source": [
        " 9: Your team has collected customer satisfaction survey data on a scale of\n",
        "1-10 and wants to understand its distribution before launching a new product.\n",
        "● Explain which summary statistics and visualizations (e.g. mean, standard\n",
        "deviation, histogram) you’d use.\n",
        "● Write Python code to create a histogram using Matplotlib for the survey data:\n",
        "\n",
        "survey_scores = [7, 8, 5, 9, 6, 7, 8, 9, 10, 4, 7, 6, 9, 8, 7]"
      ],
      "metadata": {
        "id": "IVIQlVVemi7I"
      }
    },
    {
      "cell_type": "markdown",
      "source": [
        "The summary statistics and visulization we would use are as follows\n",
        "\n",
        "For Summary statistics: Mean, median, standard deviation.\n",
        "\n",
        "For Visualization: Histogram to see distribution"
      ],
      "metadata": {
        "id": "61ejY_oQm00c"
      }
    },
    {
      "cell_type": "code",
      "source": [
        "survey_scores = [7, 8, 5, 9, 6, 7, 8, 9, 10, 4, 7, 6, 9, 8, 7]\n",
        "\n",
        "import matplotlib.pyplot as plt\n",
        "\n",
        "plt.hist(survey_scores, bins=6, edgecolor='black')\n",
        "plt.title(\"Customer Satisfaction Distribution\")\n",
        "plt.xlabel(\"Score\")\n",
        "plt.ylabel(\"Frequency\")\n",
        "plt.show()\n"
      ],
      "metadata": {
        "colab": {
          "base_uri": "https://localhost:8080/",
          "height": 472
        },
        "id": "bSxBh-9pmqf8",
        "outputId": "0852d9f0-97ca-4531-b6c2-369fe7bc3a31"
      },
      "execution_count": 5,
      "outputs": [
        {
          "output_type": "display_data",
          "data": {
            "text/plain": [
              "<Figure size 640x480 with 1 Axes>"
            ],
            "image/png": "[encoded data removed]"
          },
          "metadata": {}
        }
      ]
    }
  ]
}